{
 "cells": [
  {
   "cell_type": "code",
   "execution_count": 5,
   "metadata": {},
   "outputs": [],
   "source": [
    "from common import save_matrix\n",
    "import numpy as np\n",
    "import csv"
   ]
  },
  {
   "cell_type": "code",
   "execution_count": 8,
   "metadata": {},
   "outputs": [],
   "source": [
    "names = list(range(100))\n",
    "scores = np.random.rand(100)\n",
    "scores[45:68] += 1"
   ]
  },
  {
   "cell_type": "code",
   "execution_count": 9,
   "metadata": {},
   "outputs": [
    {
     "name": "stdout",
     "output_type": "stream",
     "text": [
      "[0.40339844 0.1556631  0.09494993 0.65118245 0.16421025 0.79172824\n",
      " 0.20767695 0.2603429  0.40081269 0.61971364 0.40413797 0.68645808\n",
      " 0.83875555 0.08549138 0.82095377 0.3945469  0.22711142 0.62210094\n",
      " 0.93676666 0.06985738 0.91662885 0.78558408 0.22409247 0.14524331\n",
      " 0.39235982 0.57017048 0.42690925 0.49013431 0.25340427 0.7269017\n",
      " 0.58800589 0.52715375 0.96146245 0.56340012 0.30533289 0.79209514\n",
      " 0.77034082 0.78050405 0.89409412 0.55127849 0.916313   0.67721498\n",
      " 0.0459156  0.96834495 0.88995115 1.24398692 1.91430125 1.26206818\n",
      " 1.18869384 1.63312086 1.7430634  1.18116854 1.70855886 1.17032032\n",
      " 1.16561802 1.69701148 1.19211718 1.80835256 1.64619792 1.70063364\n",
      " 1.91833455 1.19230575 1.7570454  1.80666012 1.59303981 1.46165166\n",
      " 1.67392386 1.01709086 0.10790968 0.69618167 0.23601611 0.84597943\n",
      " 0.03169739 0.91197372 0.11653946 0.94250955 0.55934355 0.19275672\n",
      " 0.60817825 0.20657399 0.24648264 0.57778999 0.30449871 0.68723028\n",
      " 0.69502365 0.74658846 0.43538887 0.60844008 0.97623064 0.95895144\n",
      " 0.46136274 0.57050289 0.90957889 0.09998328 0.98963016 0.08425795\n",
      " 0.66875391 0.40229458 0.1535941  0.06907197]\n"
     ]
    }
   ],
   "source": [
    "print(list2)"
   ]
  },
  {
   "cell_type": "code",
   "execution_count": 11,
   "metadata": {},
   "outputs": [],
   "source": [
    "with open('../examples/line_scores.tsv', 'w') as tsvfile:\n",
    "    writer = csv.writer(tsvfile, delimiter='\\t')\n",
    "    for i in range(len(list1)):\n",
    "        writer.writerow([list1[i], list2[i]])"
   ]
  }
 ],
 "metadata": {
  "kernelspec": {
   "display_name": "Python 3",
   "language": "python",
   "name": "python3"
  },
  "language_info": {
   "codemirror_mode": {
    "name": "ipython",
    "version": 3
   },
   "file_extension": ".py",
   "mimetype": "text/x-python",
   "name": "python",
   "nbconvert_exporter": "python",
   "pygments_lexer": "ipython3",
   "version": "3.7.4"
  }
 },
 "nbformat": 4,
 "nbformat_minor": 2
}
